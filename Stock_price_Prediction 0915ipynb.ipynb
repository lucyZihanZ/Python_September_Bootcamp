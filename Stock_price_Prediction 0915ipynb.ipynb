{
  "cells": [
    {
      "cell_type": "code",
      "execution_count": 6,
      "metadata": {
        "id": "cLiLRJd2oybp"
      },
      "outputs": [
        {
          "name": "stdout",
          "output_type": "stream",
          "text": [
            "Total value of portfolio after 100 days: $1184.70\n"
          ]
        }
      ],
      "source": [
        "import numpy as np\n",
        "import random\n",
        "import string\n",
        "\n",
        "class StockMarket:\n",
        "    def __init__(self, stock_tickers):\n",
        "        self.stock_prices = {ticker: np.random.uniform(10, 100) for ticker in stock_tickers}\n",
        "        self.deltas = {ticker: self.get_new_delta() for ticker in stock_tickers}\n",
        "        self.days_since_last_change = {ticker: 0 for ticker in stock_tickers}\n",
        "\n",
        "    def get_new_delta(self):\n",
        "        return np.random.normal(0, 0.03)\n",
        "\n",
        "    def advance_one_day(self):\n",
        "        for ticker in self.stock_prices:\n",
        "            if self.stock_prices[ticker] < 0.01:\n",
        "                continue\n",
        "            chance_of_change = 0.1 + 0.1 * self.days_since_last_change[ticker]\n",
        "            if np.random.rand() < chance_of_change:\n",
        "                self.deltas[ticker] = self.get_new_delta()\n",
        "                self.days_since_last_change[ticker] = 0\n",
        "            self.stock_prices[ticker] *= (1 + self.deltas[ticker])\n",
        "            self.days_since_last_change[ticker] += 1\n",
        "\n",
        "    def get_stock_prices(self):\n",
        "        return self.stock_prices\n",
        "\n",
        "class Portfolio:\n",
        "    def __init__(self, initial_cash):\n",
        "        self.cash = initial_cash\n",
        "        self.stocks = {}\n",
        "\n",
        "    def buy(self, stock_ticker, k, stock_price):\n",
        "        if stock_price < 0.01:\n",
        "            self.stocks[stock_ticker] = 0\n",
        "            return\n",
        "        total_cost = (stock_price * k) + 0.50\n",
        "        if self.cash >= total_cost:\n",
        "            self.cash -= total_cost\n",
        "            self.stocks[stock_ticker] = self.stocks.get(stock_ticker, 0) + k\n",
        "\n",
        "    def sell(self, stock_ticker, k, stock_price):\n",
        "        if stock_price < 0.01:\n",
        "            self.stocks[stock_ticker] = 0\n",
        "            return\n",
        "        if stock_ticker in self.stocks and self.stocks[stock_ticker] >= k:\n",
        "            self.cash += (stock_price * k) - 0.50\n",
        "            self.stocks[stock_ticker] -= k\n",
        "            if self.stocks[stock_ticker] == 0:\n",
        "                del self.stocks[stock_ticker]\n",
        "\n",
        "def generate_stock_ticker(length=4):\n",
        "    \"\"\"\n",
        "    randomly generates a stock ticker containing upper case letters and numbers with the given length\n",
        "    \"\"\"\n",
        "    letters = string.ascii_uppercase\n",
        "    numbers = string.digits\n",
        "    ticker = ''.join(random.choice(letters + numbers) for _ in range(length))\n",
        "    return ticker\n",
        "\n",
        "STOCK_TICKERS = [generate_stock_ticker() for _ in range(6)]\n",
        "INITIAL_CASH = 1000\n",
        "\n",
        "def main():\n",
        "    ## TODO: Replace the following code with your algorithm\n",
        "    INITIAL_CASH=1000\n",
        "    s = StockMarket(STOCK_TICKERS)\n",
        "    p = Portfolio(INITIAL_CASH)\n",
        "    def get_the_rate(stock_rates,ticker): \n",
        "        if stock_rates[0][ticker] == 0:\n",
        "            return 0\n",
        "        else:\n",
        "            return (stock_rates[1][ticker]-stock_rates[0][ticker])/stock_rates[0][ticker]\n",
        "    best_ticker = random.choice(STOCK_TICKERS)\n",
        "    stocks = p.stocks\n",
        "    for day in range(100):\n",
        "        lst = []\n",
        "# get the first day's price as previous price\n",
        "        prev_price = s.get_stock_prices().copy()\n",
        "        lst.append(prev_price)\n",
        "# update the stock market\n",
        "        s.advance_one_day()  \n",
        "# get the second day's price, we use the first day and the second day's price to make decision.\n",
        "        lst.append(s.get_stock_prices())\n",
        "        rate_dict = {}\n",
        "# use get rate to get the increase/decrease rate of every ticker, and choose the best one for trading.\n",
        "        for ticker in STOCK_TICKERS:\n",
        "            rate_dict[ticker] = get_the_rate(lst,ticker)\n",
        "        max_ticker = max(rate_dict,key = rate_dict.get)\n",
        "        min_ticker = min(rate_dict, key = rate_dict.get)\n",
        "        if abs(rate_dict[max_ticker])<abs(rate_dict[min_ticker]):\n",
        "            best_ticker = min_ticker\n",
        "    # we chose 0.1 as the threshold, because the \"chance_of_change\" is closely related to this rate.\n",
        "            if abs(rate_dict[min_ticker])*lst[0][ticker]>0.1:\n",
        "                p.buy(best_ticker,1,lst[1][best_ticker])\n",
        "                cash = p.cash\n",
        "                INITIAL_CASH = cash\n",
        "                new_stock = p.stocks\n",
        "    # update the stock, get the currently best stocks.\n",
        "                stocks = new_stock\n",
        "        else:\n",
        "            best_ticker = max_ticker\n",
        "            if abs(rate_dict[min_ticker])*lst[0][ticker]>0.1:\n",
        "                p.sell(best_ticker,1,lst[1][best_ticker])\n",
        "                cash = p.cash\n",
        "                INITIAL_CASH  = cash\n",
        "                new_stock = p.stocks\n",
        "                stocks = new_stock\n",
        "    final_stock_value = sum(p.stocks[ticker] * s.get_stock_prices()[ticker] for ticker in p.stocks)\n",
        "    final_value = p.cash + final_stock_value  \n",
        "    print(f\"Total value of portfolio after 100 days: ${final_value:.2f}\")\n",
        "\n",
        "if __name__ == \"__main__\":\n",
        "    main()\n"
      ]
    },
    {
      "cell_type": "markdown",
      "metadata": {
        "id": "axyFmOJcF-wm"
      },
      "source": [
        "## Sample Solution"
      ]
    },
    {
      "cell_type": "markdown",
      "metadata": {},
      "source": [
        "*I think since `new_delta` is randomly chosen in this question. Therefore, the price change of the stock is fluctuating randomly and similar to  random walk model. Since the random walk model has no memory, so based on a long period of historical `stock_price` data to make trading decision is not reliable. Therefore this code is only based on the previous day's price fluctuations as a reference to determine whether to buy or sell in the current period.*"
      ]
    }
  ],
  "metadata": {
    "colab": {
      "provenance": []
    },
    "kernelspec": {
      "display_name": "base",
      "language": "python",
      "name": "python3"
    },
    "language_info": {
      "codemirror_mode": {
        "name": "ipython",
        "version": 3
      },
      "file_extension": ".py",
      "mimetype": "text/x-python",
      "name": "python",
      "nbconvert_exporter": "python",
      "pygments_lexer": "ipython3",
      "version": "3.12.4"
    }
  },
  "nbformat": 4,
  "nbformat_minor": 0
}
